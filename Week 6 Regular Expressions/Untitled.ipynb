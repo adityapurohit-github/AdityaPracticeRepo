{
 "cells": [
  {
   "cell_type": "code",
   "execution_count": 1,
   "id": "f24f0e74",
   "metadata": {},
   "outputs": [],
   "source": [
    "import re"
   ]
  },
  {
   "cell_type": "code",
   "execution_count": 3,
   "id": "9ebbf989",
   "metadata": {},
   "outputs": [
    {
     "data": {
      "text/plain": [
       "['class', 'class']"
      ]
     },
     "execution_count": 3,
     "metadata": {},
     "output_type": "execute_result"
    }
   ],
   "source": [
    "a = \"Who all in class and class rooms\"\n",
    "re.findall(\"class\",a)"
   ]
  },
  {
   "cell_type": "code",
   "execution_count": 4,
   "id": "c61ba1d7",
   "metadata": {},
   "outputs": [
    {
     "data": {
      "text/plain": [
       "['Nice ', ' Who all in class and class rooms', ' please let me know']"
      ]
     },
     "execution_count": 4,
     "metadata": {},
     "output_type": "execute_result"
    }
   ],
   "source": [
    "a = \"Nice , Who all in class and class rooms, please let me know\"\n",
    "re.split(\",\",a)"
   ]
  },
  {
   "cell_type": "code",
   "execution_count": 20,
   "id": "99349165",
   "metadata": {},
   "outputs": [
    {
     "data": {
      "text/plain": [
       "'Who all in school and school rooms'"
      ]
     },
     "execution_count": 20,
     "metadata": {},
     "output_type": "execute_result"
    }
   ],
   "source": [
    "a = \"Who all in class and class rooms\"\n",
    "re.sub(r\"class\",\"school\",a)\n",
    "\n"
   ]
  },
  {
   "cell_type": "code",
   "execution_count": 26,
   "id": "d5a3108e",
   "metadata": {},
   "outputs": [
    {
     "data": {
      "text/plain": [
       "['A1', 'A2', 'A3', 'A4', 'A4']"
      ]
     },
     "execution_count": 26,
     "metadata": {},
     "output_type": "execute_result"
    }
   ],
   "source": [
    "b = \"Winners are A1,A2,A33,A44,AA,A,A4A,A@,A@3A\"\n",
    "re.findall(r\"A\\d\",b)"
   ]
  },
  {
   "cell_type": "code",
   "execution_count": 27,
   "id": "fb511af3",
   "metadata": {},
   "outputs": [
    {
     "data": {
      "text/plain": [
       "['AA', 'A,', 'A,', 'A@', 'A@']"
      ]
     },
     "execution_count": 27,
     "metadata": {},
     "output_type": "execute_result"
    }
   ],
   "source": [
    "b = \"Winners are A1,A2,A33,A44,AA,A,A4A,A@,A@3A\"\n",
    "re.findall(r\"A\\D\",b)"
   ]
  },
  {
   "cell_type": "code",
   "execution_count": 28,
   "id": "a8d3f801",
   "metadata": {},
   "outputs": [
    {
     "data": {
      "text/plain": [
       "['A1', 'A2', 'A3', 'A4', 'AA', 'A4']"
      ]
     },
     "execution_count": 28,
     "metadata": {},
     "output_type": "execute_result"
    }
   ],
   "source": [
    "b = \"Winners are A1,A2,A33,A44,AA,A,A4A,A@,A@3A\"\n",
    "re.findall(r\"A\\w\",b)"
   ]
  },
  {
   "cell_type": "code",
   "execution_count": 38,
   "id": "7ca51ff9",
   "metadata": {},
   "outputs": [
    {
     "data": {
      "text/plain": [
       "['$23', '$3', '$3', '.4', '$0', '.5', '$300', '$20']"
      ]
     },
     "execution_count": 38,
     "metadata": {},
     "output_type": "execute_result"
    }
   ],
   "source": [
    "c = \"The price is $23,$3,$3.4,$0.5,$300,$20\"\n",
    "re.findall(r\"\\W\\d+\",c)"
   ]
  },
  {
   "cell_type": "code",
   "execution_count": 45,
   "id": "395193e0",
   "metadata": {},
   "outputs": [
    {
     "data": {
      "text/plain": [
       "[' $23', ',$3', ',$3', ',$0', ',$300', ',$20']"
      ]
     },
     "execution_count": 45,
     "metadata": {},
     "output_type": "execute_result"
    }
   ],
   "source": [
    "c = \"The price is $23,$3,$3.4,$0.5,$300,$20\"\n",
    "re.findall(r\"\\W\\d*\\W\\d+\", c)"
   ]
  },
  {
   "cell_type": "code",
   "execution_count": null,
   "id": "55ec9cad",
   "metadata": {},
   "outputs": [],
   "source": []
  }
 ],
 "metadata": {
  "kernelspec": {
   "display_name": "Python 3 (ipykernel)",
   "language": "python",
   "name": "python3"
  },
  "language_info": {
   "codemirror_mode": {
    "name": "ipython",
    "version": 3
   },
   "file_extension": ".py",
   "mimetype": "text/x-python",
   "name": "python",
   "nbconvert_exporter": "python",
   "pygments_lexer": "ipython3",
   "version": "3.9.7"
  }
 },
 "nbformat": 4,
 "nbformat_minor": 5
}
