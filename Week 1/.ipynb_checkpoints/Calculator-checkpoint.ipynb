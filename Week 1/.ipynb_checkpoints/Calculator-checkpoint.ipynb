{
 "cells": [
  {
   "cell_type": "code",
   "execution_count": 18,
   "id": "1f519076-b3b7-403a-9662-7b16af4673b3",
   "metadata": {
    "tags": []
   },
   "outputs": [],
   "source": [
    "# This Function performs Addition of two numbers\n",
    "def Add(a,b):\n",
    "    return a+b"
   ]
  },
  {
   "cell_type": "code",
   "execution_count": 29,
   "id": "6b175be7-784f-4a8d-8dba-28afc4d8db12",
   "metadata": {},
   "outputs": [],
   "source": [
    "# This Function performs Subtraction of two numbers\n",
    "def Sub(a,b):\n",
    "    return a-b"
   ]
  },
  {
   "cell_type": "code",
   "execution_count": 30,
   "id": "98e850af-fc57-4a41-acf4-10ecf009d7f4",
   "metadata": {},
   "outputs": [],
   "source": [
    "# This Function performs Multiplication of two numbers\n",
    "def Multiply(a,b):\n",
    "    return a*b"
   ]
  },
  {
   "cell_type": "code",
   "execution_count": 19,
   "id": "71f4d758-a7c9-4f1f-b1eb-cbc450b924af",
   "metadata": {},
   "outputs": [],
   "source": [
    "# This Function performs Division of two numbers\n",
    "def Div(a,b):\n",
    "    return a/b"
   ]
  },
  {
   "cell_type": "code",
   "execution_count": 51,
   "id": "20b06078-370f-4de6-ba91-138d9c6f7588",
   "metadata": {},
   "outputs": [
    {
     "name": "stdout",
     "output_type": "stream",
     "text": [
      "Select operation -\n",
      "1.Addition\n",
      "2.Subtraction\n",
      "3.Multiplication\n",
      "4.Division\n"
     ]
    },
    {
     "name": "stdin",
     "output_type": "stream",
     "text": [
      "Please enter choice (1/ 2/ 3/ 4):  7\n",
      "Please enter the first number:  6\n",
      "Please enter the second number:  6\n"
     ]
    },
    {
     "name": "stdout",
     "output_type": "stream",
     "text": [
      "This is an invalid input\n"
     ]
    }
   ],
   "source": [
    "print(\"Select operation -\")\n",
    "print(\"1.Addition\")\n",
    "print(\"2.Subtraction\")\n",
    "print(\"3.Multiplication\")\n",
    "print(\"4.Division\")\n",
    "\n",
    "\n",
    "choice = input(\"Please enter choice (1/ 2/ 3/ 4): \")\n",
    "    \n",
    "a = float(input(\"Please enter the first number: \"))    \n",
    "b = float(input(\"Please enter the second number: \")) \n",
    "\n",
    "if choice =='1':\n",
    "    print(a,\"+\",b,\"=\",Add(a,b))\n",
    "    \n",
    "elif choice =='2':\n",
    "    print(a,\"-\",b,\"=\",Sub(a,b))\n",
    "    \n",
    "elif choice =='3':\n",
    "    print(a,\"*\",b,\"=\",Multiply(a,b))\n",
    "    \n",
    "elif choice =='4':\n",
    "    print(a,\"/\",b,\"=\",Div(a,b))\n",
    "    \n",
    "else:\n",
    "    print(\"Worng Choice Entered\")   "
   ]
  },
  {
   "cell_type": "code",
   "execution_count": null,
   "id": "fa701666-0335-48c3-b469-609a9544c969",
   "metadata": {},
   "outputs": [],
   "source": []
  },
  {
   "cell_type": "code",
   "execution_count": null,
   "id": "8db55eb1-07a7-4cd7-b384-2c1730fe9b42",
   "metadata": {},
   "outputs": [],
   "source": []
  },
  {
   "cell_type": "code",
   "execution_count": null,
   "id": "49924687-3444-4220-b370-5dbc2eb10fda",
   "metadata": {},
   "outputs": [],
   "source": []
  }
 ],
 "metadata": {
  "kernelspec": {
   "display_name": "Python 3 (ipykernel)",
   "language": "python",
   "name": "python3"
  },
  "language_info": {
   "codemirror_mode": {
    "name": "ipython",
    "version": 3
   },
   "file_extension": ".py",
   "mimetype": "text/x-python",
   "name": "python",
   "nbconvert_exporter": "python",
   "pygments_lexer": "ipython3",
   "version": "3.9.7"
  }
 },
 "nbformat": 4,
 "nbformat_minor": 5
}
