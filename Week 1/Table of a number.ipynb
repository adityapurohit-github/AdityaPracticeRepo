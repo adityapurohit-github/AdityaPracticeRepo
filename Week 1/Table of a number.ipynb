{
 "cells": [
  {
   "cell_type": "code",
   "execution_count": 39,
   "id": "de6381da-0587-4c2b-ae0a-0cea906b5d40",
   "metadata": {},
   "outputs": [],
   "source": [
    "# This function defines the the table\n",
    "def table(a,b):\n",
    "    for b in range(1,11):\n",
    "        return a * b"
   ]
  },
  {
   "cell_type": "code",
   "execution_count": 41,
   "id": "2bb54d12-830e-458c-b299-5425e4d60d20",
   "metadata": {},
   "outputs": [
    {
     "name": "stdin",
     "output_type": "stream",
     "text": [
      "Please enter number =   8\n"
     ]
    },
    {
     "name": "stdout",
     "output_type": "stream",
     "text": [
      "8.0 x 10 = 8.0\n"
     ]
    }
   ],
   "source": [
    "number_1 = float(input(\"Please enter number =  \"))\n",
    "print(number_1,\"x\",b,\"=\", table(number_1,b))"
   ]
  },
  {
   "cell_type": "code",
   "execution_count": null,
   "id": "84e3a932-0eee-4082-b81e-0103046da018",
   "metadata": {},
   "outputs": [],
   "source": []
  },
  {
   "cell_type": "code",
   "execution_count": null,
   "id": "4b114204-f054-4407-b548-d992338110fd",
   "metadata": {},
   "outputs": [],
   "source": []
  },
  {
   "cell_type": "code",
   "execution_count": null,
   "id": "580ad6f3-2f90-46c6-a0b1-f396e8c929e8",
   "metadata": {},
   "outputs": [],
   "source": []
  },
  {
   "cell_type": "code",
   "execution_count": null,
   "id": "4ffcc0ae-202a-49da-97f7-d95fd022cb50",
   "metadata": {},
   "outputs": [],
   "source": []
  }
 ],
 "metadata": {
  "kernelspec": {
   "display_name": "Python 3 (ipykernel)",
   "language": "python",
   "name": "python3"
  },
  "language_info": {
   "codemirror_mode": {
    "name": "ipython",
    "version": 3
   },
   "file_extension": ".py",
   "mimetype": "text/x-python",
   "name": "python",
   "nbconvert_exporter": "python",
   "pygments_lexer": "ipython3",
   "version": "3.9.7"
  }
 },
 "nbformat": 4,
 "nbformat_minor": 5
}
