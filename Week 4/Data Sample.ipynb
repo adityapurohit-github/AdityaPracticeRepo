{
 "cells": [
  {
   "cell_type": "code",
   "execution_count": 2,
   "id": "048a8f7c-ea2d-4d73-a902-fe9cad940cc0",
   "metadata": {},
   "outputs": [
    {
     "name": "stdout",
     "output_type": "stream",
     "text": [
      "Data\n"
     ]
    }
   ],
   "source": [
    "print(\"Data\")"
   ]
  },
  {
   "cell_type": "code",
   "execution_count": null,
   "id": "38f209b8-ddc9-4473-be64-99aa4f36e600",
   "metadata": {},
   "outputs": [],
   "source": [
    "print ("
   ]
  }
 ],
 "metadata": {
  "kernelspec": {
   "display_name": "Python 3 (ipykernel)",
   "language": "python",
   "name": "python3"
  },
  "language_info": {
   "codemirror_mode": {
    "name": "ipython",
    "version": 3
   },
   "file_extension": ".py",
   "mimetype": "text/x-python",
   "name": "python",
   "nbconvert_exporter": "python",
   "pygments_lexer": "ipython3",
   "version": "3.9.7"
  }
 },
 "nbformat": 4,
 "nbformat_minor": 5
}
