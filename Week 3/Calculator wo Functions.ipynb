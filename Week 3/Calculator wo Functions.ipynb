{
 "cells": [
  {
   "cell_type": "code",
   "execution_count": 5,
   "id": "345af99b-7a2a-4524-9028-81a1559ff148",
   "metadata": {},
   "outputs": [
    {
     "name": "stdin",
     "output_type": "stream",
     "text": [
      "Enter first number:  64\n",
      "Enter second number:  8\n"
     ]
    },
    {
     "name": "stdout",
     "output_type": "stream",
     "text": [
      "Operation: +, -, *, /\n"
     ]
    },
    {
     "name": "stdin",
     "output_type": "stream",
     "text": [
      "Selected Operation:  ^\n"
     ]
    },
    {
     "name": "stdout",
     "output_type": "stream",
     "text": [
      "Invalid input\n"
     ]
    }
   ],
   "source": [
    "\n",
    "# take inputs\n",
    "num1 = float(input(\"Enter first number: \"))\n",
    "num2 = float(input(\"Enter second number: \"))\n",
    "\n",
    "# choose operation\n",
    "print(\"Operation: +, -, *, /\")\n",
    "selected = input(\"Selected Operation: \")\n",
    "\n",
    "# check operations and display result\n",
    "# add(+) two numbers\n",
    "if selected == \"+\":\n",
    "    print(num1, \"+\", num2, \"=\", num1+num2)\n",
    "\n",
    "# subtract(-) two numbers\n",
    "elif selected == \"-\":\n",
    "    print(num1, \"-\", num2, \"=\", num1-num2)\n",
    "\n",
    "# multiplies(*) two numbers\n",
    "elif selected == \"*\":\n",
    "    print(num1, \"*\", num2, \"=\", num1*num2)\n",
    "\n",
    "# divides(/) two numbers\n",
    "elif selected == \"/\":\n",
    "    print(num1, \"/\", num2, \"=\", num1/num2)\n",
    "\n",
    "else:\n",
    "    print(\"Invalid input\")"
   ]
  },
  {
   "cell_type": "code",
   "execution_count": null,
   "id": "eadc877e-bbf8-4c63-87b4-79650e529b93",
   "metadata": {},
   "outputs": [],
   "source": []
  }
 ],
 "metadata": {
  "kernelspec": {
   "display_name": "Python 3 (ipykernel)",
   "language": "python",
   "name": "python3"
  },
  "language_info": {
   "codemirror_mode": {
    "name": "ipython",
    "version": 3
   },
   "file_extension": ".py",
   "mimetype": "text/x-python",
   "name": "python",
   "nbconvert_exporter": "python",
   "pygments_lexer": "ipython3",
   "version": "3.9.7"
  }
 },
 "nbformat": 4,
 "nbformat_minor": 5
}
